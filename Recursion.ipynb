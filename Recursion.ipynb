{
 "cells": [
  {
   "cell_type": "markdown",
   "metadata": {},
   "source": [
    "# Find the Factorial of a non-negative integer"
   ]
  },
  {
   "cell_type": "code",
   "execution_count": 1,
   "metadata": {
    "_cell_guid": "b1076dfc-b9ad-4769-8c92-a6c4dae69d19",
    "_uuid": "8f2839f25d086af736a60e9eeb907d3b93b6e0e5",
    "execution": {
     "iopub.execute_input": "2024-12-18T18:35:05.585340Z",
     "iopub.status.busy": "2024-12-18T18:35:05.584976Z",
     "iopub.status.idle": "2024-12-18T18:35:05.618732Z",
     "shell.execute_reply": "2024-12-18T18:35:05.617512Z",
     "shell.execute_reply.started": "2024-12-18T18:35:05.585295Z"
    },
    "trusted": true
   },
   "outputs": [
    {
     "name": "stdout",
     "output_type": "stream",
     "text": [
      "120\n"
     ]
    }
   ],
   "source": [
    "def factorial(n):\n",
    "    if n==1 or n==0:\n",
    "        return 1\n",
    "    else:\n",
    "        return n * factorial(n-1)\n",
    "n = 5\n",
    "print(factorial(n))"
   ]
  },
  {
   "cell_type": "markdown",
   "metadata": {},
   "source": [
    "* Input: n = 5 (Calculate 5!, or 5 factorial).\n",
    "* First call: factorial(5) = 5 * factorial(4).\n",
    "* Second call: factorial(4) = 4 * factorial(3).\n",
    "* Third call: factorial(3) = 3 * factorial(2).\n",
    "* Fourth call: factorial(2) = 2 * factorial(1).\n",
    "* Base case: factorial(1) = 1."
   ]
  },
  {
   "cell_type": "markdown",
   "metadata": {},
   "source": [
    "factorial(2) = 2 * 1 = 2\n",
    "\n",
    "factorial(3) = 3 * 2 = 6\n",
    "\n",
    "factorial(4) = 4 * 6 = 24\n",
    "\n",
    "factorial(5) = 5 * 24 = 120.\n"
   ]
  },
  {
   "cell_type": "markdown",
   "metadata": {},
   "source": [
    "# Find the Exponential"
   ]
  },
  {
   "cell_type": "code",
   "execution_count": 2,
   "metadata": {
    "execution": {
     "iopub.execute_input": "2024-12-18T19:04:17.565332Z",
     "iopub.status.busy": "2024-12-18T19:04:17.564979Z",
     "iopub.status.idle": "2024-12-18T19:04:17.571845Z",
     "shell.execute_reply": "2024-12-18T19:04:17.570763Z",
     "shell.execute_reply.started": "2024-12-18T19:04:17.565303Z"
    },
    "trusted": true
   },
   "outputs": [
    {
     "name": "stdout",
     "output_type": "stream",
     "text": [
      "32\n"
     ]
    }
   ],
   "source": [
    "def exponential(a, n):\n",
    "    if n == 0:\n",
    "        return 1\n",
    "    else: \n",
    "        return a * exponential(a, n-1)\n",
    "n = 5\n",
    "a = 2\n",
    "print(exponential(a, n))"
   ]
  },
  {
   "cell_type": "markdown",
   "metadata": {},
   "source": [
    "* Input: a = 2, n = 5 (Calculate 2^5).\n",
    "* First call: exponential(2, 5) = 2 * exponential(2, 4)\n",
    "* Second call: exponential(2, 4) = 2 * exponential(2, 3).\n",
    "* Third call: exponential(2, 3) = 2 * exponential(2, 2).\n",
    "* Fourth call: exponential(2, 2) = 2 * exponential(2, 1).\n",
    "* Fifth call: exponential(2, 1) = 2 * exponential(2, 0).\n",
    "* Base case: exponential(2, 0) = 1."
   ]
  },
  {
   "cell_type": "markdown",
   "metadata": {},
   "source": [
    "exponential(2, 1) = 2 * 1 = 2\n",
    "\n",
    "exponential(2, 2) = 2 * 2 = 4\n",
    "\n",
    "exponential(2, 3) = 2 * 4 = 8\n",
    "\n",
    "exponential(2, 4) = 2 * 8 = 16\n",
    "\n",
    "exponential(2, 5) = 2 * 16 = 32."
   ]
  },
  {
   "cell_type": "markdown",
   "metadata": {},
   "source": [
    "# Sum of n numbers"
   ]
  },
  {
   "cell_type": "code",
   "execution_count": 3,
   "metadata": {
    "execution": {
     "iopub.execute_input": "2024-12-18T18:58:19.080712Z",
     "iopub.status.busy": "2024-12-18T18:58:19.080262Z",
     "iopub.status.idle": "2024-12-18T18:58:19.087783Z",
     "shell.execute_reply": "2024-12-18T18:58:19.086403Z",
     "shell.execute_reply.started": "2024-12-18T18:58:19.080679Z"
    },
    "trusted": true
   },
   "outputs": [
    {
     "name": "stdout",
     "output_type": "stream",
     "text": [
      "10\n"
     ]
    }
   ],
   "source": [
    "def nsum(n):\n",
    "    if n == 1: \n",
    "        return 1\n",
    "    else: \n",
    "        return n+nsum(n-1)\n",
    "n = 4\n",
    "print(nsum(n))"
   ]
  },
  {
   "cell_type": "markdown",
   "metadata": {},
   "source": [
    "    Input: n = 4 (Calculate the sum of the first 4 natural numbers: 1+2+3+41+2+3+4).\n",
    "\n",
    "Step-by-Step Recursive Breakdown:\n",
    "\n",
    "* First Call:\n",
    "      nsum(4) = 4 + nsum(3)\n",
    "* Second Call:\n",
    "      nsum(3) = 3 + nsum(2)\n",
    "* Third Call:\n",
    "      nsum(2) = 2 + nsum(1)\n",
    "* Base Case:\n",
    "      nsum(1) = 1"
   ]
  },
  {
   "cell_type": "markdown",
   "metadata": {},
   "source": [
    "    nsum(2) = 2 + 1 = 3\n",
    "    nsum(3) = 3 + 3 = 6\n",
    "    nsum(4) = 4 + 6 = 10"
   ]
  },
  {
   "cell_type": "markdown",
   "metadata": {},
   "source": [
    "# Sum of a list of numbers"
   ]
  },
  {
   "cell_type": "code",
   "execution_count": 4,
   "metadata": {
    "_kg_hide-input": true,
    "execution": {
     "iopub.execute_input": "2024-12-18T19:09:22.927180Z",
     "iopub.status.busy": "2024-12-18T19:09:22.926765Z",
     "iopub.status.idle": "2024-12-18T19:09:22.935003Z",
     "shell.execute_reply": "2024-12-18T19:09:22.933547Z",
     "shell.execute_reply.started": "2024-12-18T19:09:22.927145Z"
    },
    "trusted": true
   },
   "outputs": [
    {
     "name": "stdout",
     "output_type": "stream",
     "text": [
      "24\n"
     ]
    }
   ],
   "source": [
    "def list_sum(numslist):\n",
    "    if len(numslist)==1:\n",
    "        return numslist[0]\n",
    "    else:\n",
    "        return numslist[0] + list_sum(numslist[1:])\n",
    "numslist = [2,4,5,6,7]\n",
    "print(list_sum(numslist))"
   ]
  },
  {
   "cell_type": "markdown",
   "metadata": {},
   "source": [
    "# Fibonacci sequence"
   ]
  },
  {
   "cell_type": "code",
   "execution_count": 5,
   "metadata": {
    "execution": {
     "iopub.execute_input": "2024-12-18T18:42:42.124048Z",
     "iopub.status.busy": "2024-12-18T18:42:42.123605Z",
     "iopub.status.idle": "2024-12-18T18:42:42.131585Z",
     "shell.execute_reply": "2024-12-18T18:42:42.130255Z",
     "shell.execute_reply.started": "2024-12-18T18:42:42.123994Z"
    },
    "trusted": true
   },
   "outputs": [
    {
     "name": "stdout",
     "output_type": "stream",
     "text": [
      "8\n"
     ]
    }
   ],
   "source": [
    "def fibonacci(n):\n",
    "    if n == 0:\n",
    "        return 0\n",
    "    elif n==1:\n",
    "        return 1\n",
    "    else:\n",
    "        return fibonacci(n-1)+ fibonacci(n-2)\n",
    "n = 6\n",
    "print(fibonacci(n))"
   ]
  },
  {
   "cell_type": "markdown",
   "metadata": {},
   "source": [
    "    Input: n = 6 (Calculate the 6th Fibonacci number).\n",
    "    The Fibonacci sequence is: 0,1,1,2,3,5,8,…0,1,1,2,3,5,8,…\n",
    "    Goal: Compute F(6)=F(5)+F(4)F(6)=F(5)+F(4) using recursion.\n",
    "* First Call: fibonacci(6) = fibonacci(5) + fibonacci(4)\n",
    "* Second Call: fibonacci(5) = fibonacci(4) + fibonacci(3)\n",
    "* Third Call: fibonacci(4) = fibonacci(3) + fibonacci(2)\n",
    "* Base Cases:\n",
    "\n",
    "    fibonacci(1) = 1, fibonacci(0) = 0"
   ]
  },
  {
   "cell_type": "markdown",
   "metadata": {},
   "source": [
    "    fibonacci(2) = fibonacci(1) + fibonacci(0) = 1 + 0 = 1\n",
    "    fibonacci(3) = fibonacci(2) + fibonacci(1) = 1 + 1 = 2\n",
    "    fibonacci(4) = fibonacci(3) + fibonacci(2) = 2 + 1 = 3\n",
    "    fibonacci(5) = fibonacci(4) + fibonacci(3) = 3 + 2 = 5\n",
    "    fibonacci(6) = fibonacci(5) + fibonacci(4) = 5 + 3 = 8"
   ]
  },
  {
   "cell_type": "markdown",
   "metadata": {},
   "source": [
    "# Sum of Array Elements"
   ]
  },
  {
   "cell_type": "code",
   "execution_count": 6,
   "metadata": {
    "execution": {
     "iopub.execute_input": "2024-12-18T18:44:46.677809Z",
     "iopub.status.busy": "2024-12-18T18:44:46.677313Z",
     "iopub.status.idle": "2024-12-18T18:44:46.685340Z",
     "shell.execute_reply": "2024-12-18T18:44:46.683864Z",
     "shell.execute_reply.started": "2024-12-18T18:44:46.677773Z"
    },
    "trusted": true
   },
   "outputs": [
    {
     "name": "stdout",
     "output_type": "stream",
     "text": [
      "36\n"
     ]
    }
   ],
   "source": [
    "def linearsum(data,n):\n",
    "    if n == 0:\n",
    "        return 0\n",
    "    else:\n",
    "        return data[n-1]+ linearsum(data,n-1)\n",
    "print(linearsum([1,2,3,4,5,6,7,8],8))"
   ]
  },
  {
   "cell_type": "markdown",
   "metadata": {},
   "source": [
    "    Input:\n",
    "        data = [1, 2, 3, 4, 5, 6, 7, 8]\n",
    "        n = 8 (Sum all elements in the list).\n",
    "\n",
    "    Step-by-Step Recursive Breakdown:\n",
    "\n",
    "* First Call:\n",
    "    linearsum(data, 8) = data[7] + linearsum(data, 7)\n",
    "    Add data[7] = 8 to the result of the next recursive call.\n",
    "\n",
    "* Second Call:\n",
    "    linearsum(data, 7) = data[6] + linearsum(data, 6)\n",
    "    Add data[6] = 7 to the result of the next recursive call.\n",
    "\n",
    "* Third Call:\n",
    "    linearsum(data, 6) = data[5] + linearsum(data, 5)\n",
    "    Add data[5] = 6 to the result of the next recursive call.\n",
    "\n",
    "* Repeat Until Base Case:\n",
    "    Base Case: linearsum(data, 0) = 0"
   ]
  },
  {
   "cell_type": "markdown",
   "metadata": {},
   "source": [
    "    linearsum(data, 1) = data[0] + 0 = 1\n",
    "    linearsum(data, 2) = data[1] + 1 = 2 + 1 = 3\n",
    "    linearsum(data, 3) = data[2] + 3 = 3 + 3 = 6\n",
    "    linearsum(data, 4) = data[3] + 6 = 4 + 6 = 10\n",
    "    linearsum(data, 5) = data[4] + 10 = 5 + 10 = 15\n",
    "    linearsum(data, 6) = data[5] + 15 = 6 + 15 = 21\n",
    "    linearsum(data, 7) = data[6] + 21 = 7 + 21 = 28\n",
    "    linearsum(data, 8) = data[7] + 28 = 8 + 28 = 36"
   ]
  },
  {
   "cell_type": "markdown",
   "metadata": {},
   "source": [
    "# Linear Search in an array"
   ]
  },
  {
   "cell_type": "markdown",
   "metadata": {},
   "source": [
    "# Binary Search"
   ]
  },
  {
   "cell_type": "code",
   "execution_count": 7,
   "metadata": {
    "execution": {
     "iopub.execute_input": "2024-12-18T18:49:26.072555Z",
     "iopub.status.busy": "2024-12-18T18:49:26.072187Z",
     "iopub.status.idle": "2024-12-18T18:49:26.081269Z",
     "shell.execute_reply": "2024-12-18T18:49:26.079751Z",
     "shell.execute_reply.started": "2024-12-18T18:49:26.072525Z"
    },
    "trusted": true
   },
   "outputs": [
    {
     "name": "stdout",
     "output_type": "stream",
     "text": [
      "10\n"
     ]
    }
   ],
   "source": [
    "def binarySearch(data,low,high,key):\n",
    "    if low>high:\n",
    "        return -1\n",
    "    else:\n",
    "        mid =(low+high)//2\n",
    "        if key == data[mid]:\n",
    "            return mid\n",
    "        elif key < data[mid]:\n",
    "            return binarySearch(data,low,mid-1,key)\n",
    "        else:\n",
    "            return binarySearch(data,mid+1,high,key)\n",
    "print(binarySearch([2,3,4,5,6,7,12,14,17,19,22,25,27, 28,33,37],0,15,22))"
   ]
  },
  {
   "cell_type": "markdown",
   "metadata": {},
   "source": [
    "* Input:\n",
    "        data = [2, 3, 4, 5, 6, 7, 12, 14, 17, 19, 22, 25, 27, 28, 33, 37]\n",
    "        low = 0, high = 15, key = 22\n",
    "\n",
    "* First Call:\n",
    "  \n",
    "  low = 0, high = 15 → mid = (0 + 15) // 2 = 7\n",
    "  data[7] = 14. Since key > data[7], search the right half → Recursive call with low = 8, high = 15.\n",
    "\n",
    "* Second Call:\n",
    "\n",
    "  low = 8, high = 15 → mid = (8 + 15) // 2 = 11\n",
    "  data[11] = 25. Since key < data[11], search the left half → Recursive call with low = 8, high = 10.\n",
    "\n",
    "* Third Call:\n",
    "  \n",
    "  low = 8, high = 10 → mid = (8 + 10) // 2 = 9\n",
    "  data[9] = 19. Since key > data[9], search the right half → Recursive call with low = 10, high = 10.\n",
    "\n",
    "* Fourth Call:\n",
    "  \n",
    "  low = 10, high = 10 → mid = (10 + 10) // 2 = 10\n",
    "  data[10] = 22. Since key == data[10], return 10."
   ]
  },
  {
   "cell_type": "markdown",
   "metadata": {},
   "source": [
    "# Converty integer to string in any base"
   ]
  },
  {
   "cell_type": "code",
   "execution_count": 8,
   "metadata": {
    "execution": {
     "iopub.execute_input": "2024-12-18T19:20:01.723745Z",
     "iopub.status.busy": "2024-12-18T19:20:01.723321Z",
     "iopub.status.idle": "2024-12-18T19:20:01.732870Z",
     "shell.execute_reply": "2024-12-18T19:20:01.730171Z",
     "shell.execute_reply.started": "2024-12-18T19:20:01.723713Z"
    },
    "trusted": true
   },
   "outputs": [
    {
     "name": "stdout",
     "output_type": "stream",
     "text": [
      "B13\n"
     ]
    }
   ],
   "source": [
    "def convert_to_string(n, base):\n",
    "    convert_string = \"0123456789ABCDEF\"\n",
    "\n",
    "    if n<base:\n",
    "        return convert_string[n]\n",
    "    else:\n",
    "        return convert_to_string(n//base, base) + convert_string[n%base]\n",
    "n = 2835\n",
    "base = 16\n",
    "print(convert_to_string(n,base))"
   ]
  },
  {
   "cell_type": "markdown",
   "metadata": {},
   "source": [
    "* Input: n = 2835, base = 16 (Convert 2835 to hexadecimal).\n",
    "* First call: 2835 // 16 = 177, 2835 % 16 = 3 → Recursive call with n = 177.\n",
    "* Second call: 177 // 16 = 11, 177 % 16 = 1 → Recursive call with n = 11.\n",
    "* Third call (Base Case): n = 11 < 16 → Return convert_string[11] = 'B'.\n",
    "* Combine results: 'B' + '1' + '3' = 'B13'. Output is 'B13'.\n",
    "\n"
   ]
  },
  {
   "cell_type": "code",
   "execution_count": 9,
   "metadata": {
    "execution": {
     "iopub.execute_input": "2024-12-18T19:49:34.599107Z",
     "iopub.status.busy": "2024-12-18T19:49:34.598659Z",
     "iopub.status.idle": "2024-12-18T19:49:34.607098Z",
     "shell.execute_reply": "2024-12-18T19:49:34.605584Z",
     "shell.execute_reply.started": "2024-12-18T19:49:34.599071Z"
    },
    "trusted": true
   },
   "outputs": [
    {
     "name": "stdout",
     "output_type": "stream",
     "text": [
      "21\n"
     ]
    }
   ],
   "source": [
    "# Define a function named recursive_list_sum that calculates the sum of elements in a nested list\n",
    "def recursive_list_sum(data_list):\n",
    "    # Initialize a variable 'total' to store the cumulative sum\n",
    "    total = 0\n",
    "    \n",
    "    # Iterate through each element in the input list\n",
    "    for element in data_list:\n",
    "        # Check if the current element is a list (nested list)\n",
    "        if type(element) == type([]):\n",
    "            # If the element is a list, recursively call the recursive_list_sum function on the element\n",
    "            total = total + recursive_list_sum(element)\n",
    "        else:\n",
    "            # If the element is not a list, add its value to the total\n",
    "            total = total + element\n",
    "\n",
    "    # Return the total sum\n",
    "    return total\n",
    "\n",
    "# Print the result of calling the recursive_list_sum function with the input list [1, 2, [3,4], [5,6]]\n",
    "print(recursive_list_sum([1, 2, [3, 4], [5, 6]]))"
   ]
  },
  {
   "cell_type": "markdown",
   "metadata": {},
   "source": [
    "# Find the GCD of two integers"
   ]
  },
  {
   "cell_type": "code",
   "execution_count": 10,
   "metadata": {
    "execution": {
     "iopub.execute_input": "2024-12-18T19:52:04.355787Z",
     "iopub.status.busy": "2024-12-18T19:52:04.354133Z",
     "iopub.status.idle": "2024-12-18T19:52:04.364304Z",
     "shell.execute_reply": "2024-12-18T19:52:04.362527Z",
     "shell.execute_reply.started": "2024-12-18T19:52:04.355731Z"
    },
    "trusted": true
   },
   "outputs": [
    {
     "name": "stdout",
     "output_type": "stream",
     "text": [
      "2\n"
     ]
    }
   ],
   "source": [
    "# Define a function named Recurgcd that calculates the greatest common divisor (GCD) of two numbers 'a' and 'b' using recursion and the Euclidean algorithm\n",
    "\n",
    "def Recurgcd(a, b):\n",
    "    # Determine the lower and higher values between 'a' and 'b'\n",
    "    low = min(a, b)\n",
    "    high = max(a, b)\n",
    "\n",
    "    # Check if the lower value is 0 (base case for GCD calculation)\n",
    "    if low == 0:\n",
    "        # If the lower value is 0, return the higher value (GCD is the non-zero value)\n",
    "        return high\n",
    "    # Check if the lower value is 1 (base case for GCD calculation)\n",
    "    elif low == 1:\n",
    "        # If the lower value is 1, return 1 (GCD of any number with 1 is 1)\n",
    "        return 1\n",
    "    else:\n",
    "        # If neither base case is met, recursively call the Recurgcd function\n",
    "        # with the lower value and the remainder of the higher value divided by the lower value\n",
    "        return Recurgcd(low, high % low)\n",
    "\n",
    "# Print the result of calling the Recurgcd function with the input values 12 and 14\n",
    "print(Recurgcd(12, 14))\n"
   ]
  },
  {
   "cell_type": "markdown",
   "metadata": {},
   "source": [
    "# The value of 'a' to the power of 'b'"
   ]
  },
  {
   "cell_type": "code",
   "execution_count": 11,
   "metadata": {
    "execution": {
     "iopub.execute_input": "2024-12-18T19:54:59.484423Z",
     "iopub.status.busy": "2024-12-18T19:54:59.484015Z",
     "iopub.status.idle": "2024-12-18T19:54:59.491938Z",
     "shell.execute_reply": "2024-12-18T19:54:59.490500Z",
     "shell.execute_reply.started": "2024-12-18T19:54:59.484389Z"
    },
    "trusted": true
   },
   "outputs": [
    {
     "name": "stdout",
     "output_type": "stream",
     "text": [
      "81\n"
     ]
    }
   ],
   "source": [
    "# Define a function named power that calculates the result of 'a' raised to the power of 'b'\n",
    "def power(a, b):\n",
    "    # Check if 'b' is 0 (base case for power function)\n",
    "    if b == 0:\n",
    "        # If 'b' is 0, return 1 (any number raised to the power of 0 is 1)\n",
    "        return 1\n",
    "    # Check if 'a' is 0 (base case for power function)\n",
    "    elif a == 0:\n",
    "        # If 'a' is 0, return 0 (0 raised to any power is 0)\n",
    "        return 0\n",
    "    # Check if 'b' is 1 (base case for power function)\n",
    "    elif b == 1:\n",
    "        # If 'b' is 1, return 'a' (any number raised to the power of 1 is the number itself)\n",
    "        return a\n",
    "    else:\n",
    "        # If none of the base cases is met, recursively call the power function\n",
    "        # to calculate 'a' multiplied by the result of 'a' raised to the power of 'b-1'\n",
    "        return a * power(a, b - 1)\n",
    "\n",
    "# Print the result of calling the power function with the input values 3 and 4\n",
    "print(power(3, 4))\n"
   ]
  },
  {
   "cell_type": "markdown",
   "metadata": {},
   "source": [
    "# Find the geometric sum up to 'n' terms"
   ]
  },
  {
   "cell_type": "code",
   "execution_count": 12,
   "metadata": {
    "execution": {
     "iopub.execute_input": "2024-12-18T19:55:52.417242Z",
     "iopub.status.busy": "2024-12-18T19:55:52.416868Z",
     "iopub.status.idle": "2024-12-18T19:55:52.424377Z",
     "shell.execute_reply": "2024-12-18T19:55:52.423251Z",
     "shell.execute_reply.started": "2024-12-18T19:55:52.417212Z"
    },
    "trusted": true
   },
   "outputs": [
    {
     "name": "stdout",
     "output_type": "stream",
     "text": [
      "1.9921875\n",
      "1.9375\n"
     ]
    }
   ],
   "source": [
    "# Define a function named geometric_sum that calculates the geometric sum up to 'n' terms\n",
    "def geometric_sum(n):\n",
    "    # Check if 'n' equals 0, which is the base case for the geometric sum\n",
    "    if n == 0:  # Corrected base case condition\n",
    "        # If 'n' equals 0, return 1 as the geometric sum in this case is 1\n",
    "        return 1\n",
    "    else:\n",
    "        # If 'n' is not 0, calculate the term in the geometric series (1 / 2^n) and add it to\n",
    "        # the result of recursively calling the geometric_sum function with 'n - 1'\n",
    "        return 1 / (pow(2, n)) + geometric_sum(n - 1)\n",
    "# Print the result of calling the geometric_sum function with the input value 7\n",
    "print(geometric_sum(7))\n",
    "# Print the result of calling the geometric_sum function with the input value 4\n",
    "print(geometric_sum(4))"
   ]
  },
  {
   "cell_type": "markdown",
   "metadata": {},
   "source": [
    "# Sum of a harmonic series upto n terms"
   ]
  },
  {
   "cell_type": "code",
   "execution_count": 13,
   "metadata": {
    "execution": {
     "iopub.execute_input": "2024-12-18T19:56:49.411340Z",
     "iopub.status.busy": "2024-12-18T19:56:49.410883Z",
     "iopub.status.idle": "2024-12-18T19:56:49.419275Z",
     "shell.execute_reply": "2024-12-18T19:56:49.417814Z",
     "shell.execute_reply.started": "2024-12-18T19:56:49.411305Z"
    },
    "trusted": true
   },
   "outputs": [
    {
     "name": "stdout",
     "output_type": "stream",
     "text": [
      "2.5928571428571425\n",
      "2.083333333333333\n"
     ]
    }
   ],
   "source": [
    "# Define a function named harmonic_sum that calculates the harmonic sum up to 'n' terms\n",
    "def harmonic_sum(n):\n",
    "    # Check if 'n' is less than 2 (base case for the harmonic sum)\n",
    "    if n < 2:\n",
    "        # If 'n' is less than 2, return 1 (base case value for the harmonic sum)\n",
    "        return 1\n",
    "    else:\n",
    "        # If 'n' is greater than or equal to 2, calculate the reciprocal of 'n'\n",
    "        # and add it to the result of recursively calling the harmonic_sum function with 'n - 1'\n",
    "        return 1 / n + harmonic_sum(n - 1)\n",
    "\n",
    "# Print the result of calling the harmonic_sum function with the input value 7\n",
    "print(harmonic_sum(7))\n",
    "\n",
    "# Print the result of calling the harmonic_sum function with the input value 4\n",
    "print(harmonic_sum(4))"
   ]
  },
  {
   "cell_type": "markdown",
   "metadata": {},
   "source": [
    "# The sum of the positive integers of n+(n-2)+(n-4)... (until n-x =< 0)"
   ]
  },
  {
   "cell_type": "code",
   "execution_count": 14,
   "metadata": {
    "execution": {
     "iopub.execute_input": "2024-12-18T19:57:38.330455Z",
     "iopub.status.busy": "2024-12-18T19:57:38.330019Z",
     "iopub.status.idle": "2024-12-18T19:57:38.338292Z",
     "shell.execute_reply": "2024-12-18T19:57:38.336820Z",
     "shell.execute_reply.started": "2024-12-18T19:57:38.330419Z"
    },
    "trusted": true
   },
   "outputs": [
    {
     "name": "stdout",
     "output_type": "stream",
     "text": [
      "12\n",
      "30\n"
     ]
    }
   ],
   "source": [
    "# Define a function named sum_series that calculates the sum of a series of numbers\n",
    "def sum_series(n):\n",
    "    # Check if 'n' is less than 1 (base case for the series)\n",
    "    if n < 1:\n",
    "        # If 'n' is less than 1, return 0 (base case value for the sum)\n",
    "        return 0\n",
    "    else:\n",
    "        # If 'n' is greater than or equal to 1, calculate the sum of 'n' and\n",
    "        # recursively call the sum_series function with 'n - 2'\n",
    "        return n + sum_series(n - 2)\n",
    "\n",
    "# Print the result of calling the sum_series function with the input value 6\n",
    "print(sum_series(6))\n",
    "\n",
    "# Print the result of calling the sum_series function with the input value 10\n",
    "print(sum_series(10))"
   ]
  }
 ],
 "metadata": {
  "kaggle": {
   "accelerator": "none",
   "dataSources": [],
   "dockerImageVersionId": 30804,
   "isGpuEnabled": false,
   "isInternetEnabled": false,
   "language": "python",
   "sourceType": "notebook"
  },
  "kernelspec": {
   "display_name": "Python 3",
   "language": "python",
   "name": "python3"
  },
  "language_info": {
   "codemirror_mode": {
    "name": "ipython",
    "version": 3
   },
   "file_extension": ".py",
   "mimetype": "text/x-python",
   "name": "python",
   "nbconvert_exporter": "python",
   "pygments_lexer": "ipython3",
   "version": "3.12.3"
  }
 },
 "nbformat": 4,
 "nbformat_minor": 4
}
